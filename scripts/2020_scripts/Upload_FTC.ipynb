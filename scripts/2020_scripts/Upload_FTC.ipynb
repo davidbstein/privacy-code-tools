{
 "cells": [
  {
   "cell_type": "markdown",
   "id": "0f265296",
   "metadata": {},
   "source": [
    "To run the script:\n",
    "```\n",
    "pipenv run python manage.py shell_plus --notebook\n",
    "```"
   ]
  },
  {
   "cell_type": "code",
   "execution_count": 1,
   "id": "81ecf63a",
   "metadata": {},
   "outputs": [],
   "source": [
    "import os\n",
    "os.environ.setdefault('DJANGO_SETTINGS_MODULE', 'rest.settings')\n",
    "os.environ[\"DJANGO_ALLOW_ASYNC_UNSAFE\"] = \"true\""
   ]
  },
  {
   "cell_type": "code",
   "execution_count": 2,
   "id": "1d8372ec",
   "metadata": {},
   "outputs": [
    {
     "name": "stdout",
     "output_type": "stream",
     "text": [
      "/home/stein/repos/privacy-code-tools\n"
     ]
    }
   ],
   "source": [
    "cd ~/repos/privacy-code-tools"
   ]
  },
  {
   "cell_type": "code",
   "execution_count": 3,
   "id": "b23df7de",
   "metadata": {},
   "outputs": [],
   "source": [
    "import django;django.setup()"
   ]
  },
  {
   "cell_type": "code",
   "execution_count": 4,
   "id": "9addb866",
   "metadata": {},
   "outputs": [],
   "source": [
    "from coder.api import models\n",
    "from django.contrib.auth.models import User\n",
    "from coder import settings"
   ]
  },
  {
   "cell_type": "code",
   "execution_count": 5,
   "id": "4853d6cd",
   "metadata": {},
   "outputs": [],
   "source": [
    "FTC_DIR = \"/home/stein/Dropbox/_Law/Documents_and_Administrata/_DATA/scrapers/FTC/enforcement/\""
   ]
  },
  {
   "cell_type": "code",
   "execution_count": 8,
   "id": "59a4df42",
   "metadata": {},
   "outputs": [],
   "source": [
    "import json"
   ]
  },
  {
   "cell_type": "code",
   "execution_count": 31,
   "id": "a3037472",
   "metadata": {},
   "outputs": [],
   "source": [
    "all_files = {}\n",
    "for dirpath, dirnames, filenames in os.walk(FTC_DIR):\n",
    "    if \"info.json\" in filenames:\n",
    "        all_files[dirpath] = {\n",
    "            \"name\": info['name'],\n",
    "            \"info\": {i.get(\"label\", 'Case Cite'): ','.join(i.get(\"items\", [])) \n",
    "                     for i in info['info']['info'] \n",
    "                     if i.get(\"label\") or \"v.\" in \"\".join(i.get(\"items\", []))},\n",
    "            \"docs\": []\n",
    "        }\n",
    "        with open(f\"{dirpath}/info.json\") as f:\n",
    "            info = json.load(f)\n",
    "\n",
    "for dirpath, dirnames, filenames in os.walk(FTC_DIR):\n",
    "    if any(path in dirpath for path in all_files):\n",
    "        doc_list = [v['docs'] for k,v in all_files.items() if k in dirpath][0]\n",
    "        for filename in filenames:\n",
    "            if filename.endswith('.txt'):\n",
    "                with open(f\"{dirpath}/{filename}\") as f:\n",
    "                    text = f.read()\n",
    "                doc_list.append({\n",
    "                    \"date\": dirpath.split(\"/\")[-1],\n",
    "                    \"name\": filename[:-len(\".txt\")],\n",
    "                    \"text\": text\n",
    "                })"
   ]
  },
  {
   "cell_type": "code",
   "execution_count": null,
   "id": "e3d766d5",
   "metadata": {},
   "outputs": [],
   "source": [
    "def sentence_object(text):\n",
    "    if section_level:\n",
    "        return {\n",
    "            \"type\": \"section\",\n",
    "            \"level\": section_level,\n",
    "            \"content\": [text]\n",
    "        }\n",
    "    if paragraph:\n",
    "        retur {\n",
    "            \"type\": \"text\",\n",
    "            \"content\": [t+\".\" for t in text.split(\".\")]\n",
    "        }\n",
    "\n",
    "def doc_to_paragraphs(doc):\n",
    "    doc_text = map(sentence_object, foobar.split(\"\\n\"))\n",
    "    return [\n",
    "        so for so in doc_text if so\n",
    "    ]\n",
    "\n",
    "def doc_to_content(doc):\n",
    "    return {\n",
    "        \"title\": title,\n",
    "        \"content\": doc_to_paragraphs(doc)\n",
    "    }\n",
    "\n",
    "def docs_to_content(doc_list):\n",
    "    return [doc_to_content(doc) for doc in doc_list]\n",
    "\n",
    "def add_stuff(case_name, case_defendant, start_date, urls, content):\n",
    "    p = models.Policy(\n",
    "        project=3, #FTC project\n",
    "        company_name=case_name,\n",
    "        site_name=case_defendant,\n",
    "        start_date=start_date,\n",
    "        urls=urls,\n",
    "    )\n",
    "    models.PolicyInstance(\n",
    "        project=3, #FTC project\n",
    "        policy_id=p.id,\n",
    "        content=content\n",
    "    )"
   ]
  }
 ],
 "metadata": {
  "kernelspec": {
   "display_name": "Python 3 (ipykernel)",
   "language": "python",
   "name": "python3"
  },
  "language_info": {
   "codemirror_mode": {
    "name": "ipython",
    "version": 3
   },
   "file_extension": ".py",
   "mimetype": "text/x-python",
   "name": "python",
   "nbconvert_exporter": "python",
   "pygments_lexer": "ipython3",
   "version": "3.8.10"
  }
 },
 "nbformat": 4,
 "nbformat_minor": 5
}
