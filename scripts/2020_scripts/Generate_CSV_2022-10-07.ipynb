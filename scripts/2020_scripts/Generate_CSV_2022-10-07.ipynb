{
 "cells": [
  {
   "cell_type": "code",
   "execution_count": 1,
   "id": "a1703065",
   "metadata": {},
   "outputs": [
    {
     "name": "stdout",
     "output_type": "stream",
     "text": [
      "/home/stein/repos/privacy-code-tools\n"
     ]
    }
   ],
   "source": [
    "cd ~/repos/privacy-code-tools"
   ]
  },
  {
   "cell_type": "code",
   "execution_count": 2,
   "id": "65948544",
   "metadata": {},
   "outputs": [],
   "source": [
    "import os\n",
    "os.environ.setdefault('DJANGO_SETTINGS_MODULE', 'rest.settings')\n",
    "os.environ[\"DJANGO_ALLOW_ASYNC_UNSAFE\"] = \"true\"\n",
    "import django\n",
    "django.setup()"
   ]
  },
  {
   "cell_type": "code",
   "execution_count": 3,
   "id": "9a32450e",
   "metadata": {},
   "outputs": [],
   "source": [
    "from coder.api.models import Project, PolicyInstance, CodingInstance, Coding, TimingSession"
   ]
  },
  {
   "cell_type": "code",
   "execution_count": 4,
   "id": "ad09749d",
   "metadata": {},
   "outputs": [],
   "source": [
    "p_list = Project.objects.all()\n",
    "pi_list = PolicyInstance.objects.all()\n",
    "ci_list = CodingInstance.objects.all()"
   ]
  },
  {
   "cell_type": "code",
   "execution_count": null,
   "id": "4bb95587",
   "metadata": {},
   "outputs": [],
   "source": []
  }
 ],
 "metadata": {
  "kernelspec": {
   "display_name": "Python 3 (ipykernel)",
   "language": "python",
   "name": "python3"
  },
  "language_info": {
   "codemirror_mode": {
    "name": "ipython",
    "version": 3
   },
   "file_extension": ".py",
   "mimetype": "text/x-python",
   "name": "python",
   "nbconvert_exporter": "python",
   "pygments_lexer": "ipython3",
   "version": "3.8.10"
  }
 },
 "nbformat": 4,
 "nbformat_minor": 5
}
