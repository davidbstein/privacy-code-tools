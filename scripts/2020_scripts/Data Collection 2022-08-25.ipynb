{
 "cells": [
  {
   "cell_type": "markdown",
   "id": "0f265296",
   "metadata": {},
   "source": [
    "To run the script:\n",
    "```\n",
    "pipenv run python manage.py shell_plus --notebook\n",
    "```"
   ]
  },
  {
   "cell_type": "code",
   "execution_count": 1,
   "id": "81ecf63a",
   "metadata": {},
   "outputs": [],
   "source": [
    "import os\n",
    "os.environ.setdefault('DJANGO_SETTINGS_MODULE', 'rest.settings')\n",
    "os.environ[\"DJANGO_ALLOW_ASYNC_UNSAFE\"] = \"true\""
   ]
  },
  {
   "cell_type": "code",
   "execution_count": 2,
   "id": "1d8372ec",
   "metadata": {},
   "outputs": [
    {
     "name": "stdout",
     "output_type": "stream",
     "text": [
      "/Users/stein/repos/privacy-code-tools\n"
     ]
    }
   ],
   "source": [
    "cd ~/repos/privacy-code-tools"
   ]
  },
  {
   "cell_type": "code",
   "execution_count": 3,
   "id": "b23df7de",
   "metadata": {},
   "outputs": [],
   "source": [
    "import django;django.setup()"
   ]
  },
  {
   "cell_type": "code",
   "execution_count": 5,
   "id": "187e8258",
   "metadata": {},
   "outputs": [
    {
     "name": "stdout",
     "output_type": "stream",
     "text": [
      ".\n",
      "├── coder\n",
      "│   ├── __pycache__\n",
      "│   ├── api\n",
      "│   │   ├── __pycache__\n",
      "│   │   └── migrations\n",
      "│   │       └── __pycache__\n",
      "│   ├── frontend\n",
      "│   │   ├── __pycache__\n",
      "│   │   ├── migrations\n",
      "│   │   │   └── __pycache__\n",
      "│   │   ├── src\n",
      "│   │   │   ├── actions\n",
      "│   │   │   ├── components\n",
      "│   │   │   │   ├── assignment-list\n",
      "│   │   │   │   ├── coding-editor\n",
      "│   │   │   │   ├── coding-interface\n",
      "│   │   │   │   │   ├── coding-form\n",
      "│   │   │   │   │   └── policy-browser\n",
      "│   │   │   │   ├── policy-app\n",
      "│   │   │   │   ├── utils\n",
      "│   │   │   │   └── widgets\n",
      "│   │   │   ├── reducers\n",
      "│   │   │   └── styles\n",
      "│   │   ├── static\n",
      "│   │   │   └── frontend\n",
      "│   │   └── templates\n",
      "│   │       └── frontend\n",
      "│   ├── management\n",
      "│   │   └── commands\n",
      "│   ├── static\n",
      "│   │   └── wiki\n",
      "│   └── templates\n",
      "│       ├── account\n",
      "│       │   ├── email\n",
      "│       │   ├── messages\n",
      "│       │   └── snippets\n",
      "│       ├── coder\n",
      "│       ├── socialaccount\n",
      "│       │   ├── messages\n",
      "│       │   └── snippets\n",
      "│       └── wiki\n",
      "│           └── includes\n",
      "├── dist\n",
      "├── notebooks\n",
      "└── scripts\n",
      "    ├── 2020_scripts\n",
      "    └── __pycache__\n",
      "\n",
      "47 directories\n"
     ]
    }
   ],
   "source": [
    "!tree . -d -I 'node_modules'"
   ]
  },
  {
   "cell_type": "code",
   "execution_count": 7,
   "id": "9addb866",
   "metadata": {},
   "outputs": [],
   "source": [
    "from coder.api import models"
   ]
  },
  {
   "cell_type": "code",
   "execution_count": null,
   "id": "36b9e006",
   "metadata": {},
   "outputs": [],
   "source": []
  },
  {
   "cell_type": "code",
   "execution_count": null,
   "id": "ea37aaaa",
   "metadata": {},
   "outputs": [],
   "source": []
  }
 ],
 "metadata": {
  "kernelspec": {
   "display_name": "Python 3 (ipykernel)",
   "language": "python",
   "name": "python3"
  },
  "language_info": {
   "codemirror_mode": {
    "name": "ipython",
    "version": 3
   },
   "file_extension": ".py",
   "mimetype": "text/x-python",
   "name": "python",
   "nbconvert_exporter": "python",
   "pygments_lexer": "ipython3",
   "version": "3.9.12"
  }
 },
 "nbformat": 4,
 "nbformat_minor": 5
}
