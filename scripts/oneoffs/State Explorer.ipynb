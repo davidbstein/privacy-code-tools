{
 "cells": [
  {
   "cell_type": "code",
   "execution_count": 1,
   "id": "2e6913f3",
   "metadata": {},
   "outputs": [
    {
     "name": "stdout",
     "output_type": "stream",
     "text": [
      "/Users/stein/repos/privacy-code-tools\n"
     ]
    }
   ],
   "source": [
    "cd ~/repos/privacy-code-tools"
   ]
  },
  {
   "cell_type": "code",
   "execution_count": 2,
   "id": "257530ad",
   "metadata": {},
   "outputs": [],
   "source": [
    "import os\n",
    "os.environ.setdefault('DJANGO_SETTINGS_MODULE', 'rest.settings')\n",
    "os.environ[\"DJANGO_ALLOW_ASYNC_UNSAFE\"] = \"true\"\n",
    "\n",
    "import django;django.setup()\n",
    "\n",
    "from coder.api.models import *"
   ]
  },
  {
   "cell_type": "code",
   "execution_count": 3,
   "id": "d4e638ef",
   "metadata": {},
   "outputs": [],
   "source": [
    "from tqdm.notebook import tqdm\n",
    "import json"
   ]
  },
  {
   "cell_type": "code",
   "execution_count": 15,
   "id": "03beae55",
   "metadata": {},
   "outputs": [
    {
     "data": {
      "text/plain": [
       "(4, '[2022 Data Breach Project] - State Data Security laws')"
      ]
     },
     "execution_count": 15,
     "metadata": {},
     "output_type": "execute_result"
    }
   ],
   "source": [
    "project = Project.objects.all().filter(id=4)[0]\n",
    "project.id, project.name"
   ]
  },
  {
   "cell_type": "code",
   "execution_count": 16,
   "id": "40c583d0",
   "metadata": {},
   "outputs": [],
   "source": [
    "policies = Policy.objects.all().filter(project=project.id)\n",
    "states = {p.company_name: p for p in policies}\n",
    "#states[\"Delaware\"]\n",
    "codes = {\n",
    "    p.company_name: \n",
    "        PolicyInstance.objects.all().filter(project=project.id, policy_id=p.id)[0]\n",
    "    for p in policies\n",
    "}"
   ]
  },
  {
   "cell_type": "code",
   "execution_count": 17,
   "id": "7409ead6",
   "metadata": {
    "scrolled": false
   },
   "outputs": [],
   "source": [
    "codings = {\n",
    "    state: (list(CodingInstance.objects.all().filter(project=project.id, policy_instance_id=code.id))+[None])[0]\n",
    "    for state, code, in codes.items()\n",
    "}\n",
    "codings = {state: coding.coding_values for state, coding in codings.items() if coding}"
   ]
  },
  {
   "cell_type": "code",
   "execution_count": 22,
   "id": "2dbbfc5d",
   "metadata": {},
   "outputs": [
    {
     "data": {
      "text/plain": [
       "dict_keys(['title', 'content', 'ordinal', 'settings'])"
      ]
     },
     "execution_count": 22,
     "metadata": {},
     "output_type": "execute_result"
    }
   ],
   "source": [
    "codes[\"Arizona\"].content[0].keys()"
   ]
  },
  {
   "cell_type": "code",
   "execution_count": 49,
   "id": "8e56a122",
   "metadata": {},
   "outputs": [],
   "source": [
    "def getText(state):\n",
    "    content = codes[state].content\n",
    "    to_ret = []\n",
    "    for doc in content:\n",
    "        to_ret.append(\"# \" + doc.get(\"title\"))\n",
    "        for para in doc['content']:\n",
    "            if para['type'] == 'text':\n",
    "                to_ret.append(\"  \".join(para['content']))\n",
    "            elif para['type'] == 'list':\n",
    "                for bullet in para['content']:\n",
    "                    to_ret.append(\"  \".join(bullet['content']))\n",
    "            elif para['type'] == 'section':\n",
    "                to_ret.append(\"#\"*para['level'] + \" \" + \"  \".join(para['content']))\n",
    "            else:\n",
    "                print(para)\n",
    "    return '\\n'.join(to_ret)\n",
    "\n",
    "for state in codes.keys():\n",
    "    with open(f\"/Users/stein/Desktop/states/{state}.txt\", \"w\") as f:\n",
    "        f.write(getText(state))t"
   ]
  },
  {
   "cell_type": "code",
   "execution_count": null,
   "id": "a4e7698a",
   "metadata": {},
   "outputs": [],
   "source": []
  }
 ],
 "metadata": {
  "kernelspec": {
   "display_name": "Django Shell-Plus",
   "language": "python",
   "name": "django_extensions"
  },
  "language_info": {
   "codemirror_mode": {
    "name": "ipython",
    "version": 3
   },
   "file_extension": ".py",
   "mimetype": "text/x-python",
   "name": "python",
   "nbconvert_exporter": "python",
   "pygments_lexer": "ipython3",
   "version": "3.9.12"
  }
 },
 "nbformat": 4,
 "nbformat_minor": 5
}
