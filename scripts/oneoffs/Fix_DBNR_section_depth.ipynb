{
 "cells": [
  {
   "cell_type": "code",
   "execution_count": 2,
   "id": "f56512ba",
   "metadata": {},
   "outputs": [
    {
     "name": "stdout",
     "output_type": "stream",
     "text": [
      "/home/stein/repos/privacy-code-tools\n"
     ]
    }
   ],
   "source": [
    "cd ~/repos/privacy-code-tools"
   ]
  },
  {
   "cell_type": "code",
   "execution_count": 3,
   "id": "e64da3c8",
   "metadata": {},
   "outputs": [],
   "source": [
    "import os\n",
    "os.environ.setdefault('DJANGO_SETTINGS_MODULE', 'rest.settings')\n",
    "os.environ[\"DJANGO_ALLOW_ASYNC_UNSAFE\"] = \"true\""
   ]
  },
  {
   "cell_type": "code",
   "execution_count": 4,
   "id": "d46d4ae9",
   "metadata": {},
   "outputs": [],
   "source": [
    "import django;django.setup()"
   ]
  },
  {
   "cell_type": "code",
   "execution_count": 7,
   "id": "385b084b",
   "metadata": {},
   "outputs": [],
   "source": [
    "from coder.api.models import *"
   ]
  },
  {
   "cell_type": "code",
   "execution_count": 68,
   "id": "2471f85d",
   "metadata": {},
   "outputs": [],
   "source": [
    "pi_list = sorted(PolicyInstance.objects.filter(project=4), key=lambda pi: pi.id)"
   ]
  },
  {
   "cell_type": "code",
   "execution_count": 40,
   "id": "1a45ca6b",
   "metadata": {},
   "outputs": [],
   "source": [
    "for pi in pi_list:\n",
    "    documents = pi.content\n",
    "    for document in documents:\n",
    "        document['settings'] = {\"hideSectionNumbers\": True}\n",
    "        for idx, paragraph in enumerate(document['content']):\n",
    "            sentences = paragraph['content']\n",
    "            if idx == 0 and len(sentences) == 1 and sentences[0].startswith(\"`\"):\n",
    "                if \"\\n\" not in document['title']:\n",
    "                    document['title'] += f\"\\n{sentences[0]}\"\n",
    "            if idx == 1 and len(sentences) == 1:\n",
    "                paragraph['type'] == 'section'\n",
    "                paragraph['level'] = 1\n",
    "            if paragraph['type'] == 'section':\n",
    "                paragraph['level'] = 2\n",
    "            for idx, sentence in enumerate(sentences):\n",
    "                if type(sentence) == str:\n",
    "                    for thing in ['_*', '_ *', '__']:\n",
    "                        sentence = sentence.replace(thing, ' ')\n",
    "                    sentences[idx] = sentence\n",
    "    pi.save()"
   ]
  },
  {
   "cell_type": "code",
   "execution_count": 71,
   "id": "15dd4856",
   "metadata": {},
   "outputs": [],
   "source": [
    "pi_list = sorted(PolicyInstance.objects.filter(project=4), key=lambda pi: pi.id)\n",
    "for pi in pi_list:\n",
    "    if pi.id == 133 and False: # california\n",
    "        documents = pi.content\n",
    "        for document in documents:\n",
    "            assert(\"§\" not in document['title'])\n",
    "            document['title'] = document['title'][:-1].replace(\"Section \", \"§\") + ' ' + document['content'][1]['content'][-1].split(\"-\")[-1].split(\"Section\")[0].strip()\n",
    "            print(document['title'])\n",
    "        pi.save()"
   ]
  },
  {
   "cell_type": "code",
   "execution_count": null,
   "id": "0ee1b90d",
   "metadata": {},
   "outputs": [],
   "source": [
    "pi_list = sorted(PolicyInstance.objects.filter(project=4), key=lambda pi: pi.id)\n",
    "for pi in pi_list:\n",
    "    if pi.id == 136: # colorado\n",
    "        filename = \"/home/stein/Dropbox/_Law/Documents_and_Administrata/_DATA/scrapers/STATE_DBNR/colorado.md\"\n",
    "        with open(filename) as f:\n",
    "            content = f.read()\n",
    "            pass"
   ]
  }
 ],
 "metadata": {
  "kernelspec": {
   "display_name": "Python 3 (ipykernel)",
   "language": "python",
   "name": "python3"
  },
  "language_info": {
   "codemirror_mode": {
    "name": "ipython",
    "version": 3
   },
   "file_extension": ".py",
   "mimetype": "text/x-python",
   "name": "python",
   "nbconvert_exporter": "python",
   "pygments_lexer": "ipython3",
   "version": "3.8.10"
  }
 },
 "nbformat": 4,
 "nbformat_minor": 5
}
