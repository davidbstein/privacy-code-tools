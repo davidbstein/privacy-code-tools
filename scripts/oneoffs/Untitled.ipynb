{
 "cells": [
  {
   "cell_type": "code",
   "execution_count": 1,
   "id": "2e6913f3",
   "metadata": {},
   "outputs": [
    {
     "name": "stdout",
     "output_type": "stream",
     "text": [
      "/Users/stein/repos/privacy-code-tools\n"
     ]
    }
   ],
   "source": [
    "cd ~/repos/privacy-code-tools"
   ]
  },
  {
   "cell_type": "code",
   "execution_count": 2,
   "id": "257530ad",
   "metadata": {},
   "outputs": [],
   "source": [
    "import os\n",
    "os.environ.setdefault('DJANGO_SETTINGS_MODULE', 'rest.settings')\n",
    "os.environ[\"DJANGO_ALLOW_ASYNC_UNSAFE\"] = \"true\"\n",
    "\n",
    "import django;django.setup()\n",
    "\n",
    "from coder.api.models import *"
   ]
  },
  {
   "cell_type": "code",
   "execution_count": 3,
   "id": "d4e638ef",
   "metadata": {},
   "outputs": [],
   "source": [
    "from tqdm.notebook import tqdm"
   ]
  },
  {
   "cell_type": "code",
   "execution_count": 4,
   "id": "03beae55",
   "metadata": {},
   "outputs": [],
   "source": [
    "coding = Coding.objects.get(id=8)"
   ]
  },
  {
   "cell_type": "code",
   "execution_count": 5,
   "id": "f1fce924",
   "metadata": {},
   "outputs": [],
   "source": [
    "newline = \"\\n\"\n",
    "\n",
    "import csv\n",
    "\n",
    "with open(\"/Users/stein/Dropbox/coding.csv\", \"w\", encoding=\"utf-8\") as f:\n",
    "    writer = csv.writer(f)\n",
    "    writer.writerow([\"category\", \"description\", \"answers\"])\n",
    "    for cat in coding.categories:\n",
    "        for q in cat['questions']:\n",
    "            row = [q['label'], q[\"description\"], newline.join((qo['label'] for qo in q[\"questionOptions\"]))]\n",
    "            writer.writerow(row)"
   ]
  },
  {
   "cell_type": "code",
   "execution_count": 16,
   "id": "59c4eeca",
   "metadata": {},
   "outputs": [],
   "source": [
    "from collections import Counter"
   ]
  },
  {
   "cell_type": "code",
   "execution_count": 17,
   "id": "7adcca52",
   "metadata": {},
   "outputs": [],
   "source": [
    "counts = dict(Counter(\n",
    "    [len(pi.content) for pi in PolicyInstance.objects.filter(project=2)]\n",
    "))"
   ]
  },
  {
   "cell_type": "code",
   "execution_count": 22,
   "id": "194200cd",
   "metadata": {},
   "outputs": [
    {
     "name": "stdout",
     "output_type": "stream",
     "text": [
      "0, 1\n",
      "1, 20\n",
      "2, 89\n",
      "3, 48\n",
      "4, 11\n",
      "5, 3\n",
      "6, 2\n",
      "7, 1\n",
      "8, 2\n",
      "9, 1\n",
      "18, 1\n",
      "179 463\n"
     ]
    }
   ],
   "source": [
    "p_count = 0\n",
    "d_count = 0\n",
    "for docs, policies in sorted(counts.items()):\n",
    "    print(f\"{docs}, {policies}\")\n",
    "    p_count += policies\n",
    "    d_count += docs * policies\n",
    "print(p_count, d_count)"
   ]
  },
  {
   "cell_type": "code",
   "execution_count": 24,
   "id": "b7c53941",
   "metadata": {},
   "outputs": [
    {
     "data": {
      "text/plain": [
       "2.5865921787709496"
      ]
     },
     "execution_count": 24,
     "metadata": {},
     "output_type": "execute_result"
    }
   ],
   "source": [
    "\n",
    "463/179"
   ]
  },
  {
   "cell_type": "code",
   "execution_count": null,
   "id": "2145fd5a",
   "metadata": {},
   "outputs": [],
   "source": []
  }
 ],
 "metadata": {
  "kernelspec": {
   "display_name": "Django Shell-Plus",
   "language": "python",
   "name": "django_extensions"
  },
  "language_info": {
   "codemirror_mode": {
    "name": "ipython",
    "version": 3
   },
   "file_extension": ".py",
   "mimetype": "text/x-python",
   "name": "python",
   "nbconvert_exporter": "python",
   "pygments_lexer": "ipython3",
   "version": "3.9.12"
  }
 },
 "nbformat": 4,
 "nbformat_minor": 5
}
