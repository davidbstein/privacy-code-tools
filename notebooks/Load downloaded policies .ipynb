{
 "cells": [
  {
   "cell_type": "markdown",
   "id": "c44c2c15",
   "metadata": {},
   "source": [
    "# How these files are generated...\n",
    "\n",
    "I use [readermode premium](https://readermode.io/) to covert text. it seems to do better than firefox reader mode....\n",
    "\n",
    "Then I use this [hacked up chrome extension](https://github.com/davidbstein/chrome-page-downloader) to download everything into a json ball."
   ]
  },
  {
   "cell_type": "code",
   "execution_count": 1,
   "id": "0272010c",
   "metadata": {},
   "outputs": [
    {
     "name": "stdout",
     "output_type": "stream",
     "text": [
      "/Users/stein/repos/privacy-code-tools\n"
     ]
    }
   ],
   "source": [
    "cd .."
   ]
  },
  {
   "cell_type": "code",
   "execution_count": 127,
   "id": "a67fed1e",
   "metadata": {},
   "outputs": [],
   "source": [
    "from coder.api import models\n",
    "import nltk.data\n",
    "import html2text\n",
    "import bs4\n",
    "import os\n",
    "import json\n",
    "from coder import settings\n",
    "from coder.api import models\n",
    "import datetime\n",
    "import re\n",
    "from collections import defaultdict\n",
    "import datetime"
   ]
  },
  {
   "cell_type": "code",
   "execution_count": 54,
   "id": "aff572bc",
   "metadata": {},
   "outputs": [],
   "source": [
    "DL_DIR=settings.env(\"DOWNLOADS_FOLDER\")\n",
    "TOKENIZER = nltk.data.load('tokenizers/punkt/english.pickle')"
   ]
  },
  {
   "cell_type": "code",
   "execution_count": 106,
   "id": "4b3952b4",
   "metadata": {
    "scrolled": false
   },
   "outputs": [],
   "source": [
    "def to_coding_doc(html):\n",
    "    converter = html2text.HTML2Text()\n",
    "    converter.protect_links=True\n",
    "    converter.single_line_break=False\n",
    "    converter.inline_links=False\n",
    "    converter.body_width=999999999999\n",
    "    converter.strong_mark=\"__\"\n",
    "    paragraphs = converter.handle(html).split(\"\\n\\n\")\n",
    "    return list(map(_clean_paragraph, paragraphs))\n",
    "    \n",
    "def _clean_paragraph(paragraph):\n",
    "    if paragraph.startswith(\"#\"):\n",
    "        match = re.match(r'(^#*)(.*)', paragraph)\n",
    "        level = len(match[1])\n",
    "        content = match[2].strip()\n",
    "        return {\n",
    "            \"type\": \"section\",\n",
    "            \"level\": level,\n",
    "            \"content\": TOKENIZER.tokenize(content),\n",
    "        }\n",
    "    elif paragraph.startswith(' ') and (paragraph.strip().startswith('* ') or paragraph.strip().startswith('1. ')):\n",
    "        list_items = [\n",
    "            re.match(r'(?P<space>^ +)(?P<bullet>.+?) (?P<content>.*)', raw_list_item).groupdict() \n",
    "            for raw_list_item in paragraph.split('\\n')\n",
    "        ]\n",
    "        return {\n",
    "            \"type\": \"list\",\n",
    "            \"content\": [\n",
    "                {\n",
    "                    \"depth\": len(list_item['space'])//2,\n",
    "                    \"bullet\": list_item['bullet'],\n",
    "                    \"content\": TOKENIZER.tokenize(list_item['content'])\n",
    "                } for list_item in list_items]\n",
    "        }\n",
    "    else:\n",
    "        return {\n",
    "            \"type\": \"text\",\n",
    "            \"content\": TOKENIZER.tokenize(paragraph)\n",
    "        }"
   ]
  },
  {
   "cell_type": "code",
   "execution_count": 156,
   "id": "3fbda1ed",
   "metadata": {},
   "outputs": [],
   "source": [
    "# this is terrible and needs to be rewritten.\n",
    "filenames = [f for f in os.listdir(dl_dir) if f.startswith(\"pp_snapshot\")]\n",
    "parsed_docs = defaultdict(dict)\n",
    "for fn in filenames:\n",
    "    with open(f'{DL_DIR}/{fn}') as f:\n",
    "        content = json.load(f)\n",
    "        host= content['document']['location']['hostname']\n",
    "        parsed_docs[host][fn[-len(\"yyyy-mm-ddThh_mm_ss.mmmZ.json\"):-len('.json')]] = {\n",
    "            \"raw_content\": content,\n",
    "            \"parsed_content\": to_coding_doc(content['cleaned_html']),\n",
    "        }"
   ]
  },
  {
   "cell_type": "code",
   "execution_count": 157,
   "id": "541e2a7a",
   "metadata": {},
   "outputs": [],
   "source": [
    "def create_policy_instance_content(date_to_content_list):\n",
    "    \"\"\"\n",
    "    takes the parsed content of the JSON from the scape and turns it into the content object for the document scanner\n",
    "    \"\"\"\n",
    "    to_ret_parsed = []\n",
    "    to_ret_raw = []\n",
    "    for i, (fname, content) in enumerate(sorted(date_to_content_list)):\n",
    "        parsed_content = content['parsed_content']\n",
    "        raw_content = content['raw_content']\n",
    "        ordinal = chr(i+ord(\"A\"))\n",
    "        to_ret_parsed.append({\n",
    "            \"title\": f'DOCUMENT {ordinal} - {parsed_content[0][\"content\"][0]}',\n",
    "            \"ordinal\": ordinal,\n",
    "            \"content\": parsed_content,\n",
    "        })\n",
    "        to_ret_raw.append(raw_content)\n",
    "    return to_ret_parsed, to_ret_raw\n"
   ]
  },
  {
   "cell_type": "code",
   "execution_count": 159,
   "id": "940f2a55",
   "metadata": {},
   "outputs": [],
   "source": [
    "policy = models.Policy.objects.get(site_name=\"amazon.com\")\n",
    "pi_content, raw_pi_content = create_policy_instance_content(parsed_docs[\"www.amazon.com\"].items())\n",
    "scan_dt = datetime.datetime.now()\n",
    "\n",
    "raw_policy_instance = models.RawPolicyInstance(\n",
    "    policy_id=policy.id,\n",
    "    raw_content_blocks=raw_pi_content,\n",
    "    capture_date=scan_dt,\n",
    "    capture_source=\"chrome-addon\"\n",
    ")\n",
    "raw_policy_instance.save()\n",
    "policy_instance = models.PolicyInstance(\n",
    "    policy_id=policy.id,\n",
    "    raw_policy_id=raw_policy_instance.id,\n",
    "    scan_dt=raw_policy_instance.capture_date,\n",
    "    content=pi_content\n",
    ")\n",
    "policy_instance.save()"
   ]
  },
  {
   "cell_type": "code",
   "execution_count": null,
   "id": "215159e9",
   "metadata": {},
   "outputs": [],
   "source": []
  }
 ],
 "metadata": {
  "kernelspec": {
   "display_name": "Django Shell-Plus",
   "language": "python",
   "name": "django_extensions"
  },
  "language_info": {
   "codemirror_mode": {
    "name": "ipython",
    "version": 3
   },
   "file_extension": ".py",
   "mimetype": "text/x-python",
   "name": "python",
   "nbconvert_exporter": "python",
   "pygments_lexer": "ipython3",
   "version": "3.9.2"
  }
 },
 "nbformat": 4,
 "nbformat_minor": 5
}
