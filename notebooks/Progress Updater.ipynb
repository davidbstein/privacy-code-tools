{
 "cells": [
  {
   "cell_type": "code",
   "execution_count": 2,
   "source": [
    "from coder.api import (\n",
    "    scripts,\n",
    "    util,\n",
    "    models,\n",
    ")"
   ],
   "outputs": [],
   "metadata": {}
  },
  {
   "cell_type": "code",
   "execution_count": 7,
   "source": [
    "\n",
    "scripts.update_all_progress()"
   ],
   "outputs": [
    {
     "output_type": "stream",
     "name": "stdout",
     "text": [
      "updating prgress for 14 policies\n",
      "amazon.com mergers:['davidbstein@gmail.com', 'florencia.m.wurgler@gmail.com'], coding_progress: {'davidbstein@gmail.com': 1, 'gfc9001@nyu.edu': 66, 'florencia.m.wurgler@gmail.com': 62, 'dbs438@nyu.edu': 7, 'kat9234@nyu.edu': 65, 'mc8562@nyu.edu': 35}\n",
      "xvideos.com mergers:['florencia.m.wurgler@gmail.com'], coding_progress: {'gfc9001@nyu.edu': 1, 'mc8562@nyu.edu': 65, 'kat9234@nyu.edu': 65}\n",
      "xhamster.com mergers:[], coding_progress: {}\n",
      "livejasmin.com mergers:[], coding_progress: {'gfc9001@nyu.edu': 65, 'kat9234@nyu.edu': 55}\n",
      "twitter.com mergers:[], coding_progress: {'gfc9001@nyu.edu': 65, 'kat9234@nyu.edu': 23, 'dbs438@nyu.edu': 1}\n",
      "facebook.com mergers:[], coding_progress: {}\n",
      "linkedin.com mergers:[], coding_progress: {}\n",
      "pornhub.com mergers:['florencia.m.wurgler@gmail.com'], coding_progress: {'gfc9001@nyu.edu': 65, 'mc8562@nyu.edu': 65}\n",
      "chaturbate.com mergers:[], coding_progress: {}\n",
      "webmediabrands.com mergers:[], coding_progress: {'gfc9001@nyu.edu': 65, 'mc8562@nyu.edu': 25}\n",
      "pinterest.com mergers:[], coding_progress: {}\n",
      "dpreview.com mergers:[], coding_progress: {}\n",
      "completegenomics.com mergers:[], coding_progress: {}\n",
      "sediabio.com mergers:[], coding_progress: {}\n",
      "updating 14 assignments\n",
      "updaing Amazon.com, davidbstein@gmail.com: 1\n",
      "updaing Amazon.com, florencia.m.wurgler@gmail.com: 62\n",
      "updaing XVideos, florencia.m.wurgler@gmail.com: 0\n",
      "updaing XVideos, kat9234@nyu.edu: 65\n",
      "updaing XVideos, mc8562@nyu.edu: 65\n",
      "updaing xHamster's Free Porn Videos, kat9234@nyu.edu: 0\n",
      "updaing xHamster's Free Porn Videos, mc8562@nyu.edu: 0\n",
      "updaing LiveJasmin.com, kat9234@nyu.edu: 55\n",
      "updaing LiveJasmin.com, gfc9001@nyu.edu: 65\n",
      "updaing Twitter, gfc9001@nyu.edu: 65\n",
      "updaing Twitter, kat9234@nyu.edu: 23\n",
      "updaing Facebook, gfc9001@nyu.edu: 0\n",
      "updaing Facebook, mc8562@nyu.edu: 0\n",
      "updaing LinkedIn, gfc9001@nyu.edu: 0\n",
      "updaing LinkedIn, kat9234@nyu.edu: 0\n",
      "updaing PornHub, florencia.m.wurgler@gmail.com: 0\n",
      "updaing PornHub, gfc9001@nyu.edu: 65\n",
      "updaing PornHub, mc8562@nyu.edu: 65\n",
      "updaing Chaturbate, gfc9001@nyu.edu: 0\n",
      "updaing Chaturbate, mc8562@nyu.edu: 0\n",
      "updaing webmediabrands.com/, mc8562@nyu.edu: 25\n",
      "updaing webmediabrands.com/, gfc9001@nyu.edu: 65\n",
      "updaing Pinterest, gfc9001@nyu.edu: 0\n",
      "updaing Pinterest, kat9234@nyu.edu: 0\n",
      "updaing Digital Photography Review, gfc9001@nyu.edu: 0\n",
      "updaing Digital Photography Review, mc8562@nyu.edu: 0\n",
      "updaing completegenomics.com/, gfc9001@nyu.edu: 0\n",
      "updaing completegenomics.com/, kat9234@nyu.edu: 0\n",
      "updaing sediabio.com/, gfc9001@nyu.edu: 0\n",
      "updaing sediabio.com/, mc8562@nyu.edu: 0\n"
     ]
    },
    {
     "output_type": "execute_result",
     "data": {
      "text/plain": [
       "'Progress updated to 2021-07-23 10:35:59.858103'"
      ]
     },
     "metadata": {},
     "execution_count": 7
    }
   ],
   "metadata": {}
  },
  {
   "cell_type": "code",
   "execution_count": 6,
   "source": [
    "util.assign_unassigned_policies()"
   ],
   "outputs": [],
   "metadata": {}
  },
  {
   "cell_type": "code",
   "execution_count": null,
   "source": [],
   "outputs": [],
   "metadata": {}
  }
 ],
 "metadata": {
  "kernelspec": {
   "display_name": "Django Shell-Plus",
   "language": "python",
   "name": "django_extensions"
  },
  "language_info": {
   "name": "python",
   "version": "3.9.5",
   "mimetype": "text/x-python",
   "codemirror_mode": {
    "name": "ipython",
    "version": 3
   },
   "pygments_lexer": "ipython3",
   "nbconvert_exporter": "python",
   "file_extension": ".py"
  }
 },
 "nbformat": 4,
 "nbformat_minor": 5
}