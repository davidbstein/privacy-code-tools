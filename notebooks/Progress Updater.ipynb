{
 "cells": [
  {
   "cell_type": "code",
   "execution_count": 1,
   "id": "8200665b",
   "metadata": {},
   "outputs": [],
   "source": [
    "%load_ext autoreload\n",
    "%autoreload 2"
   ]
  },
  {
   "cell_type": "code",
   "execution_count": 4,
   "id": "09b0ec13",
   "metadata": {},
   "outputs": [
    {
     "name": "stdout",
     "output_type": "stream",
     "text": [
      "updating prgress for 14 policies\n",
      "xvideos.com mergers:['florencia.m.wurgler@gmail.com'], coding_progress: {'gfc9001@nyu.edu': 1, 'mc8562@nyu.edu': 65, 'kat9234@nyu.edu': 65}\n",
      "xhamster.com mergers:[], coding_progress: {}\n",
      "livejasmin.com mergers:['florencia.m.wurgler@gmail.com'], coding_progress: {'florencia.m.wurgler@gmail.com': 1, 'gfc9001@nyu.edu': 65, 'kat9234@nyu.edu': 55}\n",
      "twitter.com mergers:['florencia.m.wurgler@gmail.com'], coding_progress: {'gfc9001@nyu.edu': 65, 'kat9234@nyu.edu': 23, 'dbs438@nyu.edu': 1}\n",
      "pornhub.com mergers:['florencia.m.wurgler@gmail.com'], coding_progress: {'gfc9001@nyu.edu': 65, 'mc8562@nyu.edu': 65}\n",
      "chaturbate.com mergers:['florencia.m.wurgler@gmail.com'], coding_progress: {'gfc9001@nyu.edu': 65}\n",
      "webmediabrands.com mergers:['florencia.m.wurgler@gmail.com'], coding_progress: {'florencia.m.wurgler@gmail.com': 1, 'gfc9001@nyu.edu': 65, 'mc8562@nyu.edu': 25}\n",
      "pinterest.com mergers:['florencia.m.wurgler@gmail.com'], coding_progress: {'gfc9001@nyu.edu': 65}\n",
      "facebook.com mergers:['florencia.m.wurgler@gmail.com'], coding_progress: {'gfc9001@nyu.edu': 65}\n",
      "linkedin.com mergers:['florencia.m.wurgler@gmail.com'], coding_progress: {'gfc9001@nyu.edu': 65}\n",
      "dpreview.com mergers:['florencia.m.wurgler@gmail.com'], coding_progress: {'gfc9001@nyu.edu': 65}\n",
      "amazon.com mergers:['davidbstein@gmail.com', 'florencia.m.wurgler@gmail.com'], coding_progress: {'davidbstein@gmail.com': 2, 'gfc9001@nyu.edu': 66, 'florencia.m.wurgler@gmail.com': 62, 'dbs438@nyu.edu': 7, 'kat9234@nyu.edu': 65, 'mc8562@nyu.edu': 35}\n",
      "completegenomics.com mergers:['florencia.m.wurgler@gmail.com'], coding_progress: {'gfc9001@nyu.edu': 65}\n",
      "sediabio.com mergers:['florencia.m.wurgler@gmail.com'], coding_progress: {'gfc9001@nyu.edu': 65}\n",
      "updating 14 assignments\n",
      "updaing XVideos, kat9234@nyu.edu: 65\n",
      "updaing XVideos, mc8562@nyu.edu: 65\n",
      "updaing XVideos, florencia.m.wurgler@gmail.com: 0\n",
      "updaing xHamster's Free Porn Videos, kat9234@nyu.edu: 0\n",
      "updaing xHamster's Free Porn Videos, mc8562@nyu.edu: 0\n",
      "updaing LiveJasmin.com, gfc9001@nyu.edu: 65\n",
      "updaing LiveJasmin.com, kat9234@nyu.edu: 55\n",
      "updaing LiveJasmin.com, florencia.m.wurgler@gmail.com: 1\n",
      "updaing Twitter, gfc9001@nyu.edu: 65\n",
      "updaing Twitter, kat9234@nyu.edu: 23\n",
      "updaing Twitter, florencia.m.wurgler@gmail.com: 0\n",
      "updaing PornHub, gfc9001@nyu.edu: 65\n",
      "updaing PornHub, mc8562@nyu.edu: 65\n",
      "updaing PornHub, florencia.m.wurgler@gmail.com: 0\n",
      "updaing Chaturbate, mc8562@nyu.edu: 0\n",
      "updaing Chaturbate, gfc9001@nyu.edu: 65\n",
      "updaing Chaturbate, florencia.m.wurgler@gmail.com: 0\n",
      "updaing webmediabrands.com/, mc8562@nyu.edu: 25\n",
      "updaing webmediabrands.com/, gfc9001@nyu.edu: 65\n",
      "updaing webmediabrands.com/, florencia.m.wurgler@gmail.com: 1\n",
      "updaing Pinterest, kat9234@nyu.edu: 0\n",
      "updaing Pinterest, gfc9001@nyu.edu: 65\n",
      "updaing Pinterest, florencia.m.wurgler@gmail.com: 0\n",
      "updaing Facebook, mc8562@nyu.edu: 0\n",
      "updaing Facebook, gfc9001@nyu.edu: 65\n",
      "updaing Facebook, florencia.m.wurgler@gmail.com: 0\n",
      "updaing LinkedIn, gfc9001@nyu.edu: 65\n",
      "updaing LinkedIn, kat9234@nyu.edu: 0\n",
      "updaing LinkedIn, florencia.m.wurgler@gmail.com: 0\n",
      "updaing Digital Photography Review, mc8562@nyu.edu: 0\n",
      "updaing Digital Photography Review, gfc9001@nyu.edu: 65\n",
      "updaing Digital Photography Review, florencia.m.wurgler@gmail.com: 0\n",
      "updaing Amazon.com, florencia.m.wurgler@gmail.com: 62\n",
      "updaing Amazon.com, davidbstein@gmail.com: 2\n",
      "updaing completegenomics.com/, gfc9001@nyu.edu: 65\n",
      "updaing completegenomics.com/, kat9234@nyu.edu: 0\n",
      "updaing completegenomics.com/, florencia.m.wurgler@gmail.com: 0\n",
      "updaing sediabio.com/, gfc9001@nyu.edu: 65\n",
      "updaing sediabio.com/, mc8562@nyu.edu: 0\n",
      "updaing sediabio.com/, florencia.m.wurgler@gmail.com: 0\n"
     ]
    }
   ],
   "source": [
    "from coder.api import (\n",
    "    scripts,\n",
    "    util,\n",
    "    models,\n",
    ")\n",
    "scripts.update_all_progress()\n",
    "util.assign_unassigned_policies()\n",
    "util.assign_completed_policies_to_grader(['florencia.m.wurgler@gmail.com'])\n",
    "util.update_policy_loaded_status()"
   ]
  },
  {
   "cell_type": "code",
   "execution_count": null,
   "id": "6414b87f",
   "metadata": {},
   "outputs": [],
   "source": []
  }
 ],
 "metadata": {
  "interpreter": {
   "hash": "c871d44da4435f84c42d17689bcbd8edb4839b24d2d02d90941eee6f28c19895"
  },
  "kernelspec": {
   "display_name": "Django Shell-Plus",
   "language": "python",
   "name": "django_extensions"
  },
  "language_info": {
   "codemirror_mode": {
    "name": "ipython",
    "version": 3
   },
   "file_extension": ".py",
   "mimetype": "text/x-python",
   "name": "python",
   "nbconvert_exporter": "python",
   "pygments_lexer": "ipython3",
   "version": "3.9.12"
  }
 },
 "nbformat": 4,
 "nbformat_minor": 5
}
