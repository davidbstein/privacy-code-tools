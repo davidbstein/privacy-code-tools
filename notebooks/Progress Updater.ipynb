{
 "cells": [
  {
   "cell_type": "code",
   "execution_count": null,
   "source": [
    "from coder.api import (\n",
    "    scripts,\n",
    "    util,\n",
    "    models,\n",
    ")"
   ],
   "outputs": [],
   "metadata": {}
  },
  {
   "cell_type": "code",
   "execution_count": null,
   "source": [
    "\n",
    "scripts.update_all_progress()"
   ],
   "outputs": [],
   "metadata": {}
  },
  {
   "cell_type": "code",
   "execution_count": null,
   "source": [
    "util.assign_unassigned_policies()"
   ],
   "outputs": [],
   "metadata": {}
  },
  {
   "cell_type": "code",
   "execution_count": 1,
   "source": [
    "from coder.api import (\n",
    "    scripts,\n",
    "    util,\n",
    "    models,\n",
    ")\n",
    "util.assign_completed_policies_to_grader(['florencia.m.wurgler@gmail.com'])"
   ],
   "outputs": [],
   "metadata": {}
  },
  {
   "cell_type": "code",
   "execution_count": null,
   "source": [
    "util.update_policy_loaded_status()"
   ],
   "outputs": [],
   "metadata": {}
  },
  {
   "cell_type": "code",
   "execution_count": null,
   "source": [],
   "outputs": [],
   "metadata": {}
  }
 ],
 "metadata": {
  "kernelspec": {
   "name": "django_extensions",
   "display_name": "Django Shell-Plus",
   "language": "python"
  },
  "interpreter": {
   "hash": "c871d44da4435f84c42d17689bcbd8edb4839b24d2d02d90941eee6f28c19895"
  },
  "language_info": {
   "name": "python",
   "version": "3.9.5",
   "mimetype": "text/x-python",
   "codemirror_mode": {
    "name": "ipython",
    "version": 3
   },
   "pygments_lexer": "ipython3",
   "nbconvert_exporter": "python",
   "file_extension": ".py"
  }
 },
 "nbformat": 4,
 "nbformat_minor": 5
}