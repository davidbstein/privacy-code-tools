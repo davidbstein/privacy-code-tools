{
 "cells": [
  {
   "cell_type": "code",
   "execution_count": 3,
   "id": "070dd69a",
   "metadata": {},
   "outputs": [
    {
     "name": "stdout",
     "output_type": "stream",
     "text": [
      "/Users/stein/repos/privacy-code-tools\n"
     ]
    }
   ],
   "source": [
    "cd repos/privacy-code-tools/"
   ]
  },
  {
   "cell_type": "code",
   "execution_count": 4,
   "id": "ca22d506",
   "metadata": {},
   "outputs": [],
   "source": [
    "from coder.api.util import (\n",
    "    kv_get,\n",
    "    kv_set,\n",
    "    get_coder_progress_map,\n",
    "    get_progress_diff,\n",
    "    get_previous_date_and_progress,\n",
    "    save_progress_map,\n",
    ")\n",
    "import datetime"
   ]
  },
  {
   "cell_type": "code",
   "execution_count": 5,
   "id": "b69bea35",
   "metadata": {},
   "outputs": [],
   "source": [
    "previous_date, previous_progress = get_previous_date_and_progress()\n",
    "current_progress = get_coder_progress_map(email_filter=\"nyu.edu\")\n",
    "previous_progress = get_coder_progress_map(email_filter=\"nyu.edu\")\n",
    "progress_diff = get_progress_diff(current_progress, previous_progress)"
   ]
  },
  {
   "cell_type": "code",
   "execution_count": 7,
   "id": "c2467a04",
   "metadata": {},
   "outputs": [
    {
     "name": "stdout",
     "output_type": "stream",
     "text": [
      "GO TO documentcoding.com/status for progress\n"
     ]
    }
   ],
   "source": [
    "print(\"GO TO documentcoding.com/status for progress\")"
   ]
  },
  {
   "cell_type": "code",
   "execution_count": 9,
   "id": "ce192630",
   "metadata": {
    "scrolled": false
   },
   "outputs": [
    {
     "ename": "AssertionError",
     "evalue": "",
     "output_type": "error",
     "traceback": [
      "\u001b[0;31m---------------------------------------------------------------------------\u001b[0m",
      "\u001b[0;31mAssertionError\u001b[0m                            Traceback (most recent call last)",
      "\u001b[0;32m/var/folders/sd/zq5_l_j12ps3t4dr5xx_ptk80000gn/T/ipykernel_61994/1461067701.py\u001b[0m in \u001b[0;36m<module>\u001b[0;34m\u001b[0m\n\u001b[0;32m----> 1\u001b[0;31m \u001b[0;32massert\u001b[0m \u001b[0;32mFalse\u001b[0m\u001b[0;34m\u001b[0m\u001b[0;34m\u001b[0m\u001b[0m\n\u001b[0m\u001b[1;32m      2\u001b[0m \u001b[0;32mfrom\u001b[0m \u001b[0mcoder\u001b[0m\u001b[0;34m.\u001b[0m\u001b[0mapi\u001b[0m \u001b[0;32mimport\u001b[0m \u001b[0mmodels\u001b[0m\u001b[0;34m\u001b[0m\u001b[0;34m\u001b[0m\u001b[0m\n\u001b[1;32m      3\u001b[0m \u001b[0mfmw_note_list\u001b[0m \u001b[0;34m=\u001b[0m \u001b[0mmodels\u001b[0m\u001b[0;34m.\u001b[0m\u001b[0mCodingInstance\u001b[0m\u001b[0;34m.\u001b[0m\u001b[0mobjects\u001b[0m\u001b[0;34m.\u001b[0m\u001b[0mall\u001b[0m\u001b[0;34m(\u001b[0m\u001b[0;34m)\u001b[0m\u001b[0;34m.\u001b[0m\u001b[0mfilter\u001b[0m\u001b[0;34m(\u001b[0m\u001b[0mcoder_email\u001b[0m\u001b[0;34m=\u001b[0m\u001b[0;34m\"florencia.m.wurgler@gmail.com\"\u001b[0m\u001b[0;34m)\u001b[0m\u001b[0;34m\u001b[0m\u001b[0;34m\u001b[0m\u001b[0m\n\u001b[1;32m      4\u001b[0m \u001b[0;32mfor\u001b[0m \u001b[0mfmw_notes\u001b[0m \u001b[0;32min\u001b[0m \u001b[0mfmw_note_list\u001b[0m\u001b[0;34m:\u001b[0m\u001b[0;34m\u001b[0m\u001b[0;34m\u001b[0m\u001b[0m\n\u001b[1;32m      5\u001b[0m     \u001b[0mcoding\u001b[0m \u001b[0;34m=\u001b[0m \u001b[0mmodels\u001b[0m\u001b[0;34m.\u001b[0m\u001b[0mCoding\u001b[0m\u001b[0;34m.\u001b[0m\u001b[0mobjects\u001b[0m\u001b[0;34m.\u001b[0m\u001b[0mget\u001b[0m\u001b[0;34m(\u001b[0m\u001b[0mid\u001b[0m\u001b[0;34m=\u001b[0m\u001b[0mfmw_notes\u001b[0m\u001b[0;34m.\u001b[0m\u001b[0mcoding_id\u001b[0m\u001b[0;34m)\u001b[0m\u001b[0;34m\u001b[0m\u001b[0;34m\u001b[0m\u001b[0m\n",
      "\u001b[0;31mAssertionError\u001b[0m: "
     ]
    }
   ],
   "source": [
    "assert False\n",
    "from coder.api import models\n",
    "fmw_note_list = models.CodingInstance.objects.all().filter(coder_email=\"florencia.m.wurgler@gmail.com\")\n",
    "for fmw_notes in fmw_note_list:\n",
    "    coding = models.Coding.objects.get(id=fmw_notes.coding_id)\n",
    "    question_id_to_question = {}\n",
    "    for category in coding.categories:\n",
    "        question_id_to_question.update({question['id']: question['description'] for question in category['questions']})\n",
    "\n",
    "    for question_id, content in fmw_notes.coding_values.items():\n",
    "        if content.get('comment'):\n",
    "            print(\"\\n---\\nQUESTION\", question_id)\n",
    "            print(question_id_to_question[question_id])\n",
    "            print(\"\\nCOMMENTS\")\n",
    "            print(content['comment'])\n"
   ]
  },
  {
   "cell_type": "code",
   "execution_count": null,
   "id": "91dce717",
   "metadata": {},
   "outputs": [],
   "source": []
  }
 ],
 "metadata": {
  "kernelspec": {
   "display_name": "Django Shell-Plus",
   "language": "python",
   "name": "django_extensions"
  },
  "language_info": {
   "codemirror_mode": {
    "name": "ipython",
    "version": 3
   },
   "file_extension": ".py",
   "mimetype": "text/x-python",
   "name": "python",
   "nbconvert_exporter": "python",
   "pygments_lexer": "ipython3",
   "version": "3.9.12"
  }
 },
 "nbformat": 4,
 "nbformat_minor": 5
}
