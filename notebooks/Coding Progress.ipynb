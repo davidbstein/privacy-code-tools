{
 "cells": [
  {
   "cell_type": "code",
   "execution_count": 1,
   "id": "987f8878",
   "metadata": {},
   "outputs": [
    {
     "name": "stdout",
     "output_type": "stream",
     "text": [
      "/Users/stein/repos/privacy-code-tools\n"
     ]
    }
   ],
   "source": [
    "cd .."
   ]
  },
  {
   "cell_type": "code",
   "execution_count": 2,
   "id": "4d87234a",
   "metadata": {},
   "outputs": [],
   "source": [
    "from coder.api.util import (\n",
    "    kv_get,\n",
    "    kv_set,\n",
    "    get_coder_progress_map,\n",
    "    get_progress_diff,\n",
    "    get_previous_date_and_progress,\n",
    "    save_progress_map,\n",
    ")\n",
    "import datetime"
   ]
  },
  {
   "cell_type": "code",
   "execution_count": 3,
   "id": "54f8d768",
   "metadata": {},
   "outputs": [],
   "source": [
    "previous_date, previous_progress = get_previous_date_and_progress()\n",
    "current_progress = get_coder_progress_map(email_filter=\"nyu.edu\")\n",
    "previous_progress = get_coder_progress_map(email_filter=\"nyu.edu\")\n",
    "progress_diff = get_progress_diff(current_progress, previous_progress)"
   ]
  },
  {
   "cell_type": "code",
   "execution_count": 4,
   "id": "a68426bd",
   "metadata": {},
   "outputs": [
    {
     "name": "stdout",
     "output_type": "stream",
     "text": [
      "GO TO documentcoding.com/status for progress\n"
     ]
    }
   ],
   "source": [
    "print(\"GO TO documentcoding.com/status for progress\")"
   ]
  },
  {
   "cell_type": "code",
   "execution_count": 5,
   "id": "b169fc28",
   "metadata": {
    "scrolled": false
   },
   "outputs": [
    {
     "name": "stdout",
     "output_type": "stream",
     "text": [
      "\n",
      "---\n",
      "QUESTION v3_2020\n",
      "Is there layered notice or short notice? (i.e., are the key PP terms giving users the gist of the contract summarized on top of the document or somewhere noticeable? Table of Contents does not qualify)\n",
      "\n",
      "COMMENTS\n",
      "Note: Layered or short notice should be something like Walmart's:\n",
      "We Recently Updated Our Privacy Policy\n",
      "Updates include:\n",
      "\n",
      "Clarifying our sources of personal information\n",
      "Updating the description of rights available to California consumers under the California Consumer Privacy Act\n",
      "Walmart Privacy Policy Summary\n",
      "At Walmart, our customers are number one - always. That's why everything we do is focused on providing excellent customer service and delivering low prices.\n",
      "\n",
      "The information you share with Walmart allows us to provide the products and services you need and want while giving you the very best shopping experience. \n",
      "\n",
      "Our founder Sam Walton reminded us that \"a promise we make is a promise we keep,\" and it's our promise to customers that we respect the trust you place in us and the privacy of the information you share. Part of providing superior customer service includes making sure that we're building a relationship of trust with customers. Our way of doing that is to let you know in a clear, prominent, and easily accessible way how we collect, use, share, and above all protect your personal information. \n",
      "\n",
      "Our Policy outlines:\n",
      "\n",
      "How and why we collect your personal information;\n",
      "How your personal information is used and protected;\n",
      "When and with whom we share your personal information; and\n",
      "What choices you can make about how we collect, use, and share your personal information.\n",
      "\n",
      "\n",
      "---\n",
      "QUESTION v31_2020\n",
      "What is consent mechanism for sharing/selling PII or sensitive information to entities that aren't service providers (except for the purpose of effecting, administering, or enforcing a transaction, sending future correspondence to user, research, internal database compilation, servicing website)?\n",
      "\n",
      "COMMENTS\n",
      "Note that the opt out here is for receiving the ads, not to opt out of being tracked. \"We Recently Updated Our Privacy Policy\n",
      "Updates include:\n",
      "\n",
      "Clarifying our sources of personal information\n",
      "Updating the description of rights available to California consumers under the California Consumer Privacy Act\n",
      "Walmart Privacy Policy Summary\n",
      "At Walmart, our customers are number one - always. That's why everything we do is focused on providing excellent customer service and delivering low prices.\n",
      "\n",
      "The information you share with Walmart allows us to provide the products and services you need and want while giving you the very best shopping experience. \n",
      "\n",
      "Our founder Sam Walton reminded us that \"a promise we make is a promise we keep,\" and it's our promise to customers that we respect the trust you place in us and the privacy of the information you share. Part of providing superior customer service includes making sure that we're building a relationship of trust with customers. Our way of doing that is to let you know in a clear, prominent, and easily accessible way how we collect, use, share, and above all protect your personal information. \n",
      "\n",
      "Our Policy outlines:\n",
      "\n",
      "How and why we collect your personal information;\n",
      "How your personal information is used and protected;\n",
      "When and with whom we share your personal information; and\n",
      "What choices you can make about how we collect, use, and share your personal information.\n",
      "\"\n",
      "\n",
      "---\n",
      "QUESTION v56_2020\n",
      "PP has forum selection clause? If so, which forum? (Look in TOU as well)\n",
      "\n",
      "COMMENTS\n",
      "Please note the difference between choice of law and choice of forum and mark only the forum sentence. \n",
      "\n",
      "\n",
      "---\n",
      "QUESTION v60_2020\n",
      "PP disclaims liability for failure of security measures?\n",
      "\n",
      "COMMENTS\n",
      "The caps were disclaimers of warranties, mostly. There is a difference. For example, if Amazon was negligent in providing security, these disclaimers would not relate to the problem that arose. \n",
      "\n",
      "\n",
      "---\n",
      "QUESTION v21_2020.1\n",
      "Are contractors/service providers (under CCPA)/processors (under GDPR)  (e.g., payment process companies) bound by either the same privacy policy, confidentiality agreements, or have a contract with firm outlining how data will be used and secured?  (CCPA, GDPR compliance requirement)\n",
      "\n",
      "COMMENTS\n",
      "Does not say, but you can infer that they have constraints. \n",
      "\n",
      "---\n",
      "QUESTION v62_2020.1\n",
      "What privacy seal/certification/industry oversight organization does PP claim [other than mandatory international law (Swiss Privacy Law, etc)? [Privacy Seals are independent, third-party enforcement programs  to monitor company practices and enforce privacy policies. They are designed to provide protection to consumers by allowing Web companies to standardize privacy policies. Privacy seal programs include, among others, TRUSTe, BBBOnline, and CPA Webtrust. These are different from regulatory compliance seals, such as those that the company complies with COPPA, the Children Online Privacy Protection Act). \n",
      "\n",
      "COMMENTS\n",
      "US-EU  and Swiss-US Privacy Seal\n",
      "\n",
      "---\n",
      "QUESTION v80.2_2020.1\n",
      "Does PP state it complies with EU-US Privacy Shield? \n",
      "\n",
      "COMMENTS\n",
      "We need to change the wording to \"privacy shield\"\n"
     ]
    }
   ],
   "source": [
    "from coder.api import models\n",
    "fmw_note_list = models.CodingInstance.objects.all().filter(coder_email=\"florencia.m.wurgler@gmail.com\")\n",
    "for fmw_notes in fmw_note_list:\n",
    "    coding = models.Coding.objects.get(id=fmw_notes.coding_id)\n",
    "    question_id_to_question = {}\n",
    "    for category in coding.categories:\n",
    "        question_id_to_question.update({question['id']: question['description'] for question in category['questions']})\n",
    "\n",
    "    for question_id, content in fmw_notes.coding_values.items():\n",
    "        if content.get('comment'):\n",
    "            print(\"\\n---\\nQUESTION\", question_id)\n",
    "            print(question_id_to_question[question_id])\n",
    "            print(\"\\nCOMMENTS\")\n",
    "            print(content['comment'])\n"
   ]
  },
  {
   "cell_type": "code",
   "execution_count": null,
   "id": "6a1ab3d5",
   "metadata": {},
   "outputs": [],
   "source": []
  }
 ],
 "metadata": {
  "kernelspec": {
   "display_name": "Django Shell-Plus",
   "language": "python",
   "name": "django_extensions"
  },
  "language_info": {
   "codemirror_mode": {
    "name": "ipython",
    "version": 3
   },
   "file_extension": ".py",
   "mimetype": "text/x-python",
   "name": "python",
   "nbconvert_exporter": "python",
   "pygments_lexer": "ipython3",
   "version": "3.9.5"
  }
 },
 "nbformat": 4,
 "nbformat_minor": 5
}
