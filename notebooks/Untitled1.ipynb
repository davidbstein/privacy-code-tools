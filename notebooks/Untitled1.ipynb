{
 "cells": [
  {
   "cell_type": "code",
   "execution_count": 1,
   "id": "34c6fa1d",
   "metadata": {},
   "outputs": [],
   "source": [
    "%load_ext autoreload\n",
    "%autoreload 2"
   ]
  },
  {
   "cell_type": "code",
   "execution_count": 2,
   "id": "c3894c44",
   "metadata": {},
   "outputs": [
    {
     "name": "stdout",
     "output_type": "stream",
     "text": [
      "/Users/stein/repos/privacy-code-tools\n"
     ]
    }
   ],
   "source": [
    "cd .."
   ]
  },
  {
   "cell_type": "code",
   "execution_count": 3,
   "id": "52f4f392",
   "metadata": {},
   "outputs": [],
   "source": [
    "import django\n",
    "django.setup()\n",
    "from coder.api.models import (\n",
    "    Assignment,\n",
    "    AssignmentType,\n",
    "    Coding,\n",
    "    CodingInstance,\n",
    "    Policy,\n",
    "    PolicyInstance,\n",
    "    Project,\n",
    "    RawPolicyInstance,\n",
    "    TimingSession,\n",
    ")\n",
    "from coder.api import document_cleaner"
   ]
  },
  {
   "cell_type": "code",
   "execution_count": 5,
   "id": "b41f0776",
   "metadata": {},
   "outputs": [],
   "source": [
    "project_list = Project.objects.all()"
   ]
  },
  {
   "cell_type": "code",
   "execution_count": 8,
   "id": "facecb76",
   "metadata": {},
   "outputs": [
    {
     "data": {
      "text/plain": [
       "[(1, '[-archive-] 2021 Privacy Policy Coding'),\n",
       " (2, 'Privacy Policy Coding'),\n",
       " (3, '[2022 Data Breach Project] - FTC Complaints'),\n",
       " (4, '[2022 Data Breach Project] - State Data Security laws'),\n",
       " (5, 'GDPR Enforcement documents')]"
      ]
     },
     "execution_count": 8,
     "metadata": {},
     "output_type": "execute_result"
    }
   ],
   "source": [
    "[(p.id, p.name) for p in project_list]"
   ]
  },
  {
   "cell_type": "code",
   "execution_count": 9,
   "id": "456d2453",
   "metadata": {},
   "outputs": [],
   "source": [
    "project_id = 4"
   ]
  },
  {
   "cell_type": "code",
   "execution_count": 11,
   "id": "07daab54",
   "metadata": {},
   "outputs": [],
   "source": [
    "policy_instances = PolicyInstance.objects.all().filter(project=project_id)"
   ]
  },
  {
   "cell_type": "code",
   "execution_count": 25,
   "id": "b7a4480d",
   "metadata": {},
   "outputs": [],
   "source": [
    "def pi_to_content(pi):\n",
    "    to_ret = []\n",
    "    for doc in pi.content:\n",
    "        for para in doc['content']:\n",
    "            for sentence in para['content']:\n",
    "                if type(sentence) == dict:\n",
    "                    to_ret.append('. '.join(sentence['content']))\n",
    "                else:\n",
    "                    to_ret.append(sentence)\n",
    "    return \"\\n\".join(to_ret)"
   ]
  },
  {
   "cell_type": "code",
   "execution_count": 27,
   "id": "36b5b1a2",
   "metadata": {},
   "outputs": [
    {
     "data": {
      "text/plain": [
       "<PolicyInstance: PolicyInstance object (138)>"
      ]
     },
     "execution_count": 27,
     "metadata": {},
     "output_type": "execute_result"
    }
   ],
   "source": [
    "policy_instances[0]"
   ]
  },
  {
   "cell_type": "code",
   "execution_count": 36,
   "id": "1350e70a",
   "metadata": {},
   "outputs": [],
   "source": [
    "policy_content = {\n",
    "    Policy.objects.get(id=pi.policy_id).company_name: pi_to_content(pi)\n",
    "    for pi in policy_instances\n",
    "}"
   ]
  },
  {
   "cell_type": "code",
   "execution_count": 55,
   "id": "b73163d1",
   "metadata": {},
   "outputs": [
    {
     "name": "stdout",
     "output_type": "stream",
     "text": [
      "Virginia\n",
      "Maryland\n",
      "West Virginia\n",
      "Nevada\n",
      "New York\n",
      "Oklahoma\n"
     ]
    }
   ],
   "source": [
    "for state, law in policy_content.items():\n",
    "    if all(s in law.lower() for s in [\"integrity of the system\", \"\"]):\n",
    "        print(state)"
   ]
  },
  {
   "cell_type": "code",
   "execution_count": null,
   "id": "792d4e6f",
   "metadata": {},
   "outputs": [],
   "source": []
  },
  {
   "cell_type": "code",
   "execution_count": null,
   "id": "98970fb8",
   "metadata": {},
   "outputs": [],
   "source": []
  }
 ],
 "metadata": {
  "kernelspec": {
   "display_name": "Django Shell-Plus",
   "language": "python",
   "name": "django_extensions"
  },
  "language_info": {
   "codemirror_mode": {
    "name": "ipython",
    "version": 3
   },
   "file_extension": ".py",
   "mimetype": "text/x-python",
   "name": "python",
   "nbconvert_exporter": "python",
   "pygments_lexer": "ipython3",
   "version": "3.9.12"
  }
 },
 "nbformat": 4,
 "nbformat_minor": 5
}
