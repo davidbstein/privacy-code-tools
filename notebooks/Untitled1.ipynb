{
 "cells": [
  {
   "cell_type": "code",
   "execution_count": 1,
   "id": "a228327a",
   "metadata": {},
   "outputs": [],
   "source": [
    "%load_ext autoreload\n",
    "%autoreload 2"
   ]
  },
  {
   "cell_type": "code",
   "execution_count": 3,
   "id": "b9a03c07",
   "metadata": {},
   "outputs": [
    {
     "name": "stdout",
     "output_type": "stream",
     "text": [
      "/Users/stein/repos/privacy-code-tools\n"
     ]
    }
   ],
   "source": [
    "cd .."
   ]
  },
  {
   "cell_type": "code",
   "execution_count": 9,
   "id": "9350563f",
   "metadata": {},
   "outputs": [],
   "source": [
    "import django\n",
    "django.setup()\n",
    "from coder.api.models import (\n",
    "    Assignment,\n",
    "    AssignmentType,\n",
    "    Coding,\n",
    "    CodingInstance,\n",
    "    Policy,\n",
    "    PolicyInstance,\n",
    "    Project,\n",
    "    RawPolicyInstance,\n",
    "    TimingSession,\n",
    ")\n",
    "from coder.api import document_cleaner"
   ]
  },
  {
   "cell_type": "code",
   "execution_count": 28,
   "id": "39e604e2",
   "metadata": {},
   "outputs": [],
   "source": [
    "\n",
    "us_state_to_abbrev = {\n",
    "    \"Alabama\": \"AL\",\n",
    "    \"Alaska\": \"AK\",\n",
    "    \"Arizona\": \"AZ\",\n",
    "    \"Arkansas\": \"AR\",\n",
    "    \"California\": \"CA\",\n",
    "    \"Colorado\": \"CO\",\n",
    "    \"Connecticut\": \"CT\",\n",
    "    \"Delaware\": \"DE\",\n",
    "    \"Florida\": \"FL\",\n",
    "    \"Georgia\": \"GA\",\n",
    "    \"Hawaii\": \"HI\",\n",
    "    \"Idaho\": \"ID\",\n",
    "    \"Illinois\": \"IL\",\n",
    "    \"Indiana\": \"IN\",\n",
    "    \"Iowa\": \"IA\",\n",
    "    \"Kansas\": \"KS\",\n",
    "    \"Kentucky\": \"KY\",\n",
    "    \"Louisiana\": \"LA\",\n",
    "    \"Maine\": \"ME\",\n",
    "    \"Maryland\": \"MD\",\n",
    "    \"Massachusetts\": \"MA\",\n",
    "    \"Michigan\": \"MI\",\n",
    "    \"Minnesota\": \"MN\",\n",
    "    \"Mississippi\": \"MS\",\n",
    "    \"Missouri\": \"MO\",\n",
    "    \"Montana\": \"MT\",\n",
    "    \"Nebraska\": \"NE\",\n",
    "    \"Nevada\": \"NV\",\n",
    "    \"New Hampshire\": \"NH\",\n",
    "    \"New Jersey\": \"NJ\",\n",
    "    \"New Mexico\": \"NM\",\n",
    "    \"New York\": \"NY\",\n",
    "    \"North Carolina\": \"NC\",\n",
    "    \"North Dakota\": \"ND\",\n",
    "    \"Ohio\": \"OH\",\n",
    "    \"Oklahoma\": \"OK\",\n",
    "    \"Oregon\": \"OR\",\n",
    "    \"Pennsylvania\": \"PA\",\n",
    "    \"Rhode Island\": \"RI\",\n",
    "    \"South Carolina\": \"SC\",\n",
    "    \"South Dakota\": \"SD\",\n",
    "    \"Tennessee\": \"TN\",\n",
    "    \"Texas\": \"TX\",\n",
    "    \"Utah\": \"UT\",\n",
    "    \"Vermont\": \"VT\",\n",
    "    \"Virginia\": \"VA\",\n",
    "    \"Washington\": \"WA\",\n",
    "    \"West Virginia\": \"WV\",\n",
    "    \"Wisconsin\": \"WI\",\n",
    "    \"Wyoming\": \"WY\",\n",
    "    \"District of Columbia\": \"DC\",\n",
    "    \"American Samoa\": \"AS\",\n",
    "    \"Guam\": \"GU\",\n",
    "    \"Northern Mariana Islands\": \"MP\",\n",
    "    \"Puerto Rico\": \"PR\",\n",
    "    \"United States Minor Outlying Islands\": \"UM\",\n",
    "    \"U.S. Virgin Islands\": \"VI\",\n",
    "}"
   ]
  },
  {
   "cell_type": "code",
   "execution_count": 29,
   "id": "c857df5b",
   "metadata": {},
   "outputs": [],
   "source": [
    "DOCUMENTS_DIR = \"/Users/stein/Dropbox/_Law/Documents_and_Adminitrata/_DATA/scrapers/STATE_DBNR/\""
   ]
  },
  {
   "cell_type": "code",
   "execution_count": 30,
   "id": "2e951564",
   "metadata": {},
   "outputs": [],
   "source": [
    "from markdown import markdown"
   ]
  },
  {
   "cell_type": "code",
   "execution_count": 31,
   "id": "d5103705",
   "metadata": {},
   "outputs": [],
   "source": [
    "import sys, os"
   ]
  },
  {
   "cell_type": "code",
   "execution_count": 33,
   "id": "19ade2bd",
   "metadata": {
    "scrolled": false
   },
   "outputs": [
    {
     "name": "stdout",
     "output_type": "stream",
     "text": [
      "Alabama\n",
      "Alaska\n",
      "Arizona\n",
      "Arkansas\n",
      "California\n",
      "Colorado\n",
      "Connecticut\n",
      "Delaware\n",
      "Florida\n",
      "Georgia\n",
      "Hawaii\n",
      "Idaho\n",
      "Illinois\n",
      "Indiana\n",
      "Iowa\n",
      "Kansas\n",
      "Kentucky\n",
      "Louisiana\n",
      "Maine\n",
      "Maryland\n",
      "Massachusetts\n",
      "Michigan\n",
      "Minnesota\n",
      "Mississippi\n",
      "Missouri\n",
      "Montana\n",
      "Nebraska\n",
      "Nevada\n",
      "New Hampshire\n",
      "New Jersey\n",
      "New Mexico\n",
      "New York\n",
      "North Carolina\n",
      "North Dakota\n",
      "Ohio\n",
      "Oklahoma\n",
      "Oregon\n",
      "Pennsylvania\n",
      "Rhode Island\n",
      "South Carolina\n",
      "South Dakota\n",
      "Tennessee\n",
      "Texas\n",
      "Utah\n",
      "Vermont\n",
      "Virginia\n",
      "Washington\n",
      "West Virginia\n",
      "Wisconsin\n",
      "Wyoming\n"
     ]
    }
   ],
   "source": [
    "def process_state(fn):\n",
    "    state_name = fn.split(\".\")[0].replace(\"-\", \" \").title()\n",
    "    print(state_name)\n",
    "    with open(f\"{DOCUMENTS_DIR}/{fn}\") as f:\n",
    "        raw_md = f.read()\n",
    "    sections = raw_md.split(\"\\n## \")\n",
    "    all_content = []\n",
    "    for idx, section in enumerate(sections):\n",
    "        citation, *contents = section.split(\"\\n\")\n",
    "        if idx == 0:\n",
    "            citation = citation.split(\"## \")[1]\n",
    "        content = '\\n'.join(contents)\n",
    "        title = [l[:-3] for l in contents if l.endswith(\"```\")]\n",
    "        title = title[0] if title else citation\n",
    "        all_content.append({\n",
    "            \"content\": document_cleaner.to_coding_doc(markdown(f\"`{citation}`\\n\\n{content}\")),\n",
    "            \"ordinal\": citation.split(\"§\")[-1].strip().split(\" \")[0].strip(),\n",
    "            \"title\": title,\n",
    "        })\n",
    "    policy = Policy.objects.create(**{\n",
    "        \"project\": 4,\n",
    "        \"company_name\": state_name,\n",
    "        \"site_name\": us_state_to_abbrev.get(state_name, state_name),\n",
    "    })\n",
    "    policy.save()\n",
    "    policy_instance = PolicyInstance.objects.create(**{\n",
    "        \"project\": 4,\n",
    "        \"content\": all_content,\n",
    "        \"policy_id\": policy.id,\n",
    "    })\n",
    "    policy_instance.save()\n",
    "\n",
    "for dirpath, dir_list, filenames in os.walk(DOCUMENTS_DIR):\n",
    "    for fn in sorted(filenames):\n",
    "        if fn.endswith(\"md\"):\n",
    "            process_state(fn)\n",
    "    break"
   ]
  },
  {
   "cell_type": "code",
   "execution_count": null,
   "id": "33bbfb56",
   "metadata": {},
   "outputs": [],
   "source": []
  }
 ],
 "metadata": {
  "kernelspec": {
   "display_name": "Python 3 (ipykernel)",
   "language": "python",
   "name": "python3"
  },
  "language_info": {
   "codemirror_mode": {
    "name": "ipython",
    "version": 3
   },
   "file_extension": ".py",
   "mimetype": "text/x-python",
   "name": "python",
   "nbconvert_exporter": "python",
   "pygments_lexer": "ipython3",
   "version": "3.9.12"
  }
 },
 "nbformat": 4,
 "nbformat_minor": 5
}
